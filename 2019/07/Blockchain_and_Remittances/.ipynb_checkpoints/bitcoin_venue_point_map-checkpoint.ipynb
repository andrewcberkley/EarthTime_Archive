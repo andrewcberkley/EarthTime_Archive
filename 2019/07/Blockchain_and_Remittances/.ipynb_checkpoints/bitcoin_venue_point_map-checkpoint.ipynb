{
 "cells": [
  {
   "cell_type": "code",
   "execution_count": 1,
   "metadata": {
    "collapsed": true
   },
   "outputs": [],
   "source": [
    "import array, datetime, json, math, os, random\n",
    "\n",
    "def LonLatToPixelXY(lonlat):\n",
    "    (lon, lat) = lonlat\n",
    "    x = (lon + 180.0) * 256.0 / 360.0\n",
    "    y = 128.0 - math.log(math.tan((lat + 90.0) * math.pi / 360.0)) * 128.0 / math.pi\n",
    "    return [x, y]\n",
    "\n",
    "def YearMonthDayToEpoch(year, month, day):\n",
    "    return (datetime.datetime(int(year), int(month), int(day)) - datetime.datetime(1970, 1, 1)).total_seconds()"
   ]
  },
  {
   "cell_type": "code",
   "execution_count": 2,
   "metadata": {
    "collapsed": false
   },
   "outputs": [],
   "source": [
    "with open(\"C:\\\\Users\\\\ABERK\\\\Box\\\\Data_Science_Exploration\\\\ABERK\\\\ABERK_Archive\\\\EarthTime_Archive\\\\2019\\\\07\\\\Blockchain_and_Remittances\\\\bitcoin_venues_by_the_day.geojson\") as f:\n",
    "    data = json.load(f)"
   ]
  },
  {
   "cell_type": "code",
   "execution_count": 3,
   "metadata": {
    "collapsed": false
   },
   "outputs": [
    {
     "data": {
      "text/plain": [
       "15428"
      ]
     },
     "execution_count": 3,
     "metadata": {},
     "output_type": "execute_result"
    }
   ],
   "source": [
    "len(data[\"features\"])"
   ]
  },
  {
   "cell_type": "code",
   "execution_count": 4,
   "metadata": {
    "collapsed": false
   },
   "outputs": [
    {
     "data": {
      "text/plain": [
       "{'geometry': {'coordinates': [-5.532898307, 50.12206395], 'type': 'Point'},\n",
       " 'properties': {'Day': 15,\n",
       "  'Lat': 50.12206395,\n",
       "  'Long': -5.532898307,\n",
       "  'Month': 6,\n",
       "  'Name': 'One And All',\n",
       "  'Value': 1,\n",
       "  'Year': 2016},\n",
       " 'type': 'Feature'}"
      ]
     },
     "execution_count": 4,
     "metadata": {},
     "output_type": "execute_result"
    }
   ],
   "source": [
    "data[\"features\"][0]"
   ]
  },
  {
   "cell_type": "code",
   "execution_count": 5,
   "metadata": {
    "collapsed": false
   },
   "outputs": [
    {
     "ename": "FileNotFoundError",
     "evalue": "[Errno 2] No such file or directory: '../data/PTM_User_Evolution/bitcoin_venues_overtime.bin'",
     "output_type": "error",
     "traceback": [
      "\u001b[1;31m---------------------------------------------------------------------------\u001b[0m",
      "\u001b[1;31mFileNotFoundError\u001b[0m                         Traceback (most recent call last)",
      "\u001b[1;32m<ipython-input-5-a565c7f23573>\u001b[0m in \u001b[0;36m<module>\u001b[1;34m\u001b[0m\n\u001b[0;32m     21\u001b[0m \u001b[1;33m\u001b[0m\u001b[0m\n\u001b[0;32m     22\u001b[0m \u001b[0mf\u001b[0m\u001b[1;33m.\u001b[0m\u001b[0mclose\u001b[0m\u001b[1;33m(\u001b[0m\u001b[1;33m)\u001b[0m\u001b[1;33m\u001b[0m\u001b[0m\n\u001b[1;32m---> 23\u001b[1;33m \u001b[0marray\u001b[0m\u001b[1;33m.\u001b[0m\u001b[0marray\u001b[0m\u001b[1;33m(\u001b[0m\u001b[1;34m'f'\u001b[0m\u001b[1;33m,\u001b[0m \u001b[0mpoints\u001b[0m\u001b[1;33m)\u001b[0m\u001b[1;33m.\u001b[0m\u001b[0mtofile\u001b[0m\u001b[1;33m(\u001b[0m\u001b[0mopen\u001b[0m\u001b[1;33m(\u001b[0m\u001b[1;34m'../data/PTM_User_Evolution/bitcoin_venues_overtime.bin'\u001b[0m\u001b[1;33m,\u001b[0m \u001b[1;34m'wb'\u001b[0m\u001b[1;33m)\u001b[0m\u001b[1;33m)\u001b[0m\u001b[1;33m\u001b[0m\u001b[0m\n\u001b[0m",
      "\u001b[1;31mFileNotFoundError\u001b[0m: [Errno 2] No such file or directory: '../data/PTM_User_Evolution/bitcoin_venues_overtime.bin'"
     ]
    }
   ],
   "source": [
    "min_year = 2019\n",
    "max_year = 0\n",
    "points = []\n",
    "for feature in data[\"features\"]:\n",
    "    geometry = feature['geometry']\n",
    "    properties = feature['properties']\n",
    "    #if properties['p_year'] != -9999: thiis is the original value... return to once done with the practice attempts\n",
    "    if properties['Year'] != -9999:\n",
    "        lon = geometry['coordinates'][0]\n",
    "        lat = geometry['coordinates'][1] \n",
    "        x,y = LonLatToPixelXY([lon,lat])\n",
    "        year = properties['Year']\n",
    "        month = properties['Month']\n",
    "        day = properties['Day']\n",
    "        epochtime = YearMonthDayToEpoch(year, month, day)\n",
    "        points += [x,y,epochtime]\n",
    "        if year < min_year:\n",
    "            min_year = year\n",
    "        if year > max_year:\n",
    "            max_year = year\n",
    "\n",
    "f.close()\n",
    "array.array('f', points).tofile(open(PTM_User_Evolution/bitcoin_venues_overtime.bin', 'wb'))    "
   ]
  },
  {
   "cell_type": "code",
   "execution_count": null,
   "metadata": {
    "collapsed": false
   },
   "outputs": [],
   "source": [
    "min_year, max_year"
   ]
  },
  {
   "cell_type": "code",
   "execution_count": null,
   "metadata": {
    "collapsed": true
   },
   "outputs": [],
   "source": [
    "#cd c:/Users/ABERK/Desktop/EarthTime/ABERK_EarthTime_Master_Data/Notebooks\n",
    "\n",
    "#rsync -rcav ../data/PTM_User_Evolution aberkley@timemachine2.gc.cs.cmu.edu:/usr2/aberkley.earthtime.org/app/misc/"
   ]
  },
  {
   "cell_type": "code",
   "execution_count": null,
   "metadata": {
    "collapsed": false
   },
   "outputs": [],
   "source": [
    "print (\"TRUE\\tptm_users\\tAndrew Sandbox\\tPoints\\tWorld Economic Forum, Strategic Intelligence Team\\t2017\\t2018\\t1\\thttps://aberkley.earthtime.org/misc/PTM_User_Evolution/ptm_users_overtime.bin\\t\\t\\tpoint\\t\\t\\t\\t\\t\\t\\t\\t\\t\\t\\t\\t\\t\\t\\t\\tWebGLVectorTile2.prototype._loadData\\tWebGLVectorTile2.prototype._setBufferData \\t\\t3\\tWebGLVectorTile2.vectorPointTileVertexShader\\tWebGLVectorTile2.vectorPointTileFragmentShader\\tWebGLVectorTile2.prototype._drawPoints\")"
   ]
  },
  {
   "cell_type": "code",
   "execution_count": null,
   "metadata": {
    "collapsed": true
   },
   "outputs": [],
   "source": []
  }
 ],
 "metadata": {
  "anaconda-cloud": {},
  "kernelspec": {
   "display_name": "Python [default]",
   "language": "python",
   "name": "python3"
  },
  "language_info": {
   "codemirror_mode": {
    "name": "ipython",
    "version": 3
   },
   "file_extension": ".py",
   "mimetype": "text/x-python",
   "name": "python",
   "nbconvert_exporter": "python",
   "pygments_lexer": "ipython3",
   "version": "3.5.2"
  }
 },
 "nbformat": 4,
 "nbformat_minor": 2
}
