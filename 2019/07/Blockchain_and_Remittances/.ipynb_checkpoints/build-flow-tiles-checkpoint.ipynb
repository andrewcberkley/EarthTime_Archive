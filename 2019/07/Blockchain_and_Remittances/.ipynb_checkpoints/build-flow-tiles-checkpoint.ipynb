{
 "cells": [
  {
   "cell_type": "code",
   "execution_count": 1,
   "metadata": {
    "collapsed": true
   },
   "outputs": [],
   "source": [
    "import csv, glob, json, math, os, re\n",
    "\n",
    "def process_row(row):\n",
    "    year, org, dst, val = row                \n",
    "    org_wm = centroids_by_iso_alpha_3[org]['epsg_3857']\n",
    "    dst_wm = centroids_by_iso_alpha_3[dst]['epsg_3857']\n",
    "    mid_wm = [((dst_wm[0] + org_wm[0]) / 2), ((dst_wm[1] + org_wm[1]) / 2)]  \n",
    "    mid_offset = [0,0]                \n",
    "    dist = math.sqrt(math.pow(dst_wm[0] - org_wm[0],2) +  math.pow(dst_wm[1] - org_wm[1],2))\n",
    "    if abs(dst_wm[1] - org_wm[1]) > abs(dst_wm[0] - org_wm[0]):\n",
    "        if dst_wm[1] > org_wm[1]:\n",
    "            mid_offset[0] = 1\n",
    "            mid_wm[0] += dist*0.5\n",
    "        else:\n",
    "            mid_offset[0] = -1\n",
    "            mid_wm[0] -= dist*0.5\n",
    "    else:\n",
    "        if dst_wm[0] < org_wm[0]:\n",
    "            mid_offset[1] = 1   \n",
    "            mid_wm[1] += dist*0.5\n",
    "        else: \n",
    "            mid_offset[1] = -1\n",
    "            mid_wm[1] -= dist*0.5\n",
    "    return {\"year\": year, \n",
    "            \"org\": org.lower(),\n",
    "            \"org_wm\": org_wm,\n",
    "            \"dst_wm\": dst_wm,\n",
    "            \"dst\": dst.lower(),\n",
    "            \"mid_wm\": mid_wm,\n",
    "            \"mid_offset\": mid_offset,\n",
    "            \"export_val\": val\n",
    "            }\n",
    "\n",
    "def to_json(col, fname):\n",
    "    with open(fname, \"w\") as f:\n",
    "        json.dump(col, f)\n",
    "        \n",
    "def hex2rgb(h):\n",
    "    return tuple(int(h.strip(\"#\")[i:i+2], 16) for i in (0, 2 ,4))\n",
    "\n",
    "def get_header_and_lines(fname):\n",
    "    lines = []\n",
    "    with open(fname) as f:\n",
    "        for l in f.readlines():\n",
    "            lines.append(l)\n",
    "    return lines[5], lines[6:-1]\n",
    "\n",
    "def find_name(name, features):\n",
    "    match = False\n",
    "    for f in features:\n",
    "        if name in f[\"properties\"][\"names\"]:\n",
    "            match = True\n",
    "            break\n",
    "    if match:\n",
    "        return f[\"properties\"][\"iso_alpha-3\"]\n",
    "    else:\n",
    "        return None"
   ]
  },
  {
   "cell_type": "code",
   "execution_count": null,
   "metadata": {
    "collapsed": true
   },
   "outputs": [],
   "source": [
    "# if not os.path.exists(\"../data/DealsAndTIVs\"):\n",
    "#     os.makedirs(\"../data/DealsAndTIVs\")"
   ]
  },
  {
   "cell_type": "code",
   "execution_count": null,
   "metadata": {
    "collapsed": false
   },
   "outputs": [],
   "source": [
    "# fnames = glob.glob(\"../data/DealsAndTIVs-*-*\")\n",
    "# fnames"
   ]
  },
  {
   "cell_type": "code",
   "execution_count": null,
   "metadata": {
    "collapsed": false
   },
   "outputs": [],
   "source": [
    "# o_f = \"../data/DealsAndTIVs/DealsAndTIVs-1980-2018.csv\"\n",
    "# lines = []\n",
    "# headers = []\n",
    "# for f in fnames:\n",
    "#     header, line = get_header_and_lines(f)\n",
    "#     headers.append(header)\n",
    "#     lines += line\n",
    "# print (len(lines), len(headers))\n",
    "# lines = list(set(lines))\n",
    "# headers = list(set(headers))\n",
    "# print (len(lines), len(headers))\n",
    "\n",
    "# with open(o_f,\"w\") as f:\n",
    "#     f.write(headers[0])\n",
    "#     for l in lines:\n",
    "#         f.write(l)"
   ]
  },
  {
   "cell_type": "code",
   "execution_count": 7,
   "metadata": {
    "collapsed": true
   },
   "outputs": [],
   "source": [
    "raw_data = []\n",
    "with open(\"bilateral_remittances_2010-2017_long_format_v3.csv\") as f:\n",
    "    reader = csv.DictReader(f,delimiter=\",\")\n",
    "    for row in reader:\n",
    "        raw_data.append(row)"
   ]
  },
  {
   "cell_type": "code",
   "execution_count": 8,
   "metadata": {
    "collapsed": true
   },
   "outputs": [],
   "source": [
    "# Standardize names\n",
    "names = []\n",
    "for row in raw_data:\n",
    "    org = row['Seller']\n",
    "    dst = row['Buyer']\n",
    "    if org not in names:\n",
    "        names.append(org)\n",
    "    if dst not in names:\n",
    "        names.append(dst)\n"
   ]
  },
  {
   "cell_type": "code",
   "execution_count": 9,
   "metadata": {
    "collapsed": true
   },
   "outputs": [],
   "source": [
    "with open(\"country-centroids.geojson\") as f:\n",
    "    centroids = json.load(f)"
   ]
  },
  {
   "cell_type": "code",
   "execution_count": 10,
   "metadata": {
    "collapsed": true
   },
   "outputs": [],
   "source": [
    "with open(\"centroids_by_iso_alpha_3.json\") as f:\n",
    "    centroids_by_iso_alpha_3 = json.load(f)"
   ]
  },
  {
   "cell_type": "code",
   "execution_count": 11,
   "metadata": {
    "collapsed": false
   },
   "outputs": [],
   "source": [
    "names_to_iso = {}\n",
    "for n in names:\n",
    "    iso = find_name(n, centroids[\"features\"])\n",
    "    if iso is None:\n",
    "        m = re.search(r\"\\((.+)\\)\", n)\n",
    "        if m is None:\n",
    "                if n == \"Syria rebels*\":\n",
    "                    alt_n = \"Syria\"\n",
    "                    iso = find_name(alt_n, centroids[\"features\"])\n",
    "                    names_to_iso[n] = iso\n",
    "\n",
    "                elif n == \"Libya HoR\":\n",
    "                    alt_n = \"Libya\"\n",
    "                    iso = find_name(alt_n, centroids[\"features\"])\n",
    "                    names_to_iso[n] = iso\n",
    "                elif n == \"Ukraine Rebels*\":\n",
    "                    alt_n = \"Ukraine\"\n",
    "                    iso = find_name(alt_n, centroids[\"features\"])\n",
    "                    names_to_iso[n] = iso\n",
    "                elif n == \"Lebanon Palestinian rebels*\":\n",
    "                    alt_n = \"Lebanon\"\n",
    "                    iso = find_name(alt_n, centroids[\"features\"])\n",
    "                    names_to_iso[n] = iso\n",
    "                elif n == \"Libya GNC\":\n",
    "                    alt_n = \"Libya\"\n",
    "                    iso = find_name(alt_n, centroids[\"features\"])\n",
    "                    names_to_iso[n] = iso\n",
    "                else:\n",
    "                    print (\"No match for %s\" % n)\n",
    "        else:\n",
    "            alt_n = m.group(0).replace(\"(\",\"\").replace(\")\",\"\").split(\"/\")[0]\n",
    "            iso = find_name(alt_n, centroids[\"features\"])\n",
    "            if iso is not None:\n",
    "                names_to_iso[n] = iso\n",
    "    else:\n",
    "        names_to_iso[n] = iso\n"
   ]
  },
  {
   "cell_type": "code",
   "execution_count": 12,
   "metadata": {
    "collapsed": false
   },
   "outputs": [
    {
     "data": {
      "text/plain": [
       "['2010', '2011', '2012', '2013', '2014', '2015', '2016', '2017']"
      ]
     },
     "execution_count": 12,
     "metadata": {},
     "output_type": "execute_result"
    }
   ],
   "source": [
    "# Get all years\n",
    "years = []\n",
    "for row in raw_data:\n",
    "    if row['Delivery year'] not in years and row['Delivery year'] != 'Yes' and row['Delivery year'] != 'No':\n",
    "        years.append(row['Delivery year'])\n",
    "years.sort()\n",
    "years"
   ]
  },
  {
   "cell_type": "code",
   "execution_count": 13,
   "metadata": {
    "collapsed": true
   },
   "outputs": [],
   "source": [
    "collection = {}\n",
    "for y in years:\n",
    "    collection[y] = {}\n",
    "    \n",
    "for row in raw_data:\n",
    "    year = row['Delivery year']\n",
    "    org = row[\"Seller\"]\n",
    "    dst = row[\"Buyer\"]\n",
    "    if year in years and org in names_to_iso and dst in names_to_iso:\n",
    "        o = names_to_iso[org]\n",
    "        d = names_to_iso[dst]\n",
    "        if o not in collection[year]: \n",
    "            collection[year][o] = {}\n",
    "        if d not in collection[year][o]:\n",
    "            collection[year][o][d] = 0\n",
    "        collection[year][o][d] += float(row['TIV delivery values'])\n",
    "            "
   ]
  },
  {
   "cell_type": "code",
   "execution_count": 14,
   "metadata": {
    "collapsed": true
   },
   "outputs": [],
   "source": [
    "out_dir = \"../data/sipri_arms_transfers_db/tiv/\"\n",
    "if not os.path.exists(out_dir):\n",
    "    os.makedirs(out_dir)\n",
    "    \n",
    "for year in years:\n",
    "    col = []\n",
    "    fname = os.path.join(out_dir, str(year) + \".json\")\n",
    "    for org in collection[year]:\n",
    "        for dst in collection[year][org]:\n",
    "            val = collection[year][org][dst]\n",
    "            col.append(process_row([year,org,dst,val]))\n",
    "    to_json(col, fname)"
   ]
  },
  {
   "cell_type": "code",
   "execution_count": null,
   "metadata": {
    "collapsed": true
   },
   "outputs": [],
   "source": [
    "#!rsync -rcav ../data/sipri_arms_transfers_db USERNAME@HOSTNAME:/FILE_PATH"
   ]
  },
  {
   "cell_type": "code",
   "execution_count": null,
   "metadata": {
    "collapsed": true
   },
   "outputs": [],
   "source": []
  }
 ],
 "metadata": {
  "anaconda-cloud": {},
  "kernelspec": {
   "display_name": "Python [conda env:Anaconda3]",
   "language": "python",
   "name": "conda-env-Anaconda3-py"
  },
  "language_info": {
   "codemirror_mode": {
    "name": "ipython",
    "version": 3
   },
   "file_extension": ".py",
   "mimetype": "text/x-python",
   "name": "python",
   "nbconvert_exporter": "python",
   "pygments_lexer": "ipython3",
   "version": "3.5.2"
  }
 },
 "nbformat": 4,
 "nbformat_minor": 2
}
