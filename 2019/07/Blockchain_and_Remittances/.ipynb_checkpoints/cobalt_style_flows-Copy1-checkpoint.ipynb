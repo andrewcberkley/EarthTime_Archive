{
 "cells": [
  {
   "cell_type": "code",
   "execution_count": 1,
   "metadata": {
    "collapsed": true
   },
   "outputs": [],
   "source": [
    "import csv, glob, json"
   ]
  },
  {
   "cell_type": "code",
   "execution_count": 2,
   "metadata": {
    "collapsed": true
   },
   "outputs": [],
   "source": [
    "from glob import *"
   ]
  },
  {
   "cell_type": "code",
   "execution_count": 5,
   "metadata": {
    "collapsed": false
   },
   "outputs": [
    {
     "ename": "AttributeError",
     "evalue": "'function' object has no attribute 'glob'",
     "output_type": "error",
     "traceback": [
      "\u001b[1;31m---------------------------------------------------------------------------\u001b[0m",
      "\u001b[1;31mAttributeError\u001b[0m                            Traceback (most recent call last)",
      "\u001b[1;32m<ipython-input-5-699f107eac69>\u001b[0m in \u001b[0;36m<module>\u001b[1;34m\u001b[0m\n\u001b[0;32m      1\u001b[0m \u001b[0mfiles\u001b[0m \u001b[1;33m=\u001b[0m \u001b[1;33m[\u001b[0m\u001b[1;33m]\u001b[0m\u001b[1;33m\u001b[0m\u001b[0m\n\u001b[1;32m----> 2\u001b[1;33m \u001b[1;32mfor\u001b[0m \u001b[0mf\u001b[0m \u001b[1;32min\u001b[0m \u001b[0mglob\u001b[0m\u001b[1;33m.\u001b[0m\u001b[0mglob\u001b[0m\u001b[1;33m(\u001b[0m\u001b[1;34m\"../bilateral_remittances_2010-2017_long_format.csv\"\u001b[0m\u001b[1;33m)\u001b[0m\u001b[1;33m:\u001b[0m\u001b[1;33m\u001b[0m\u001b[0m\n\u001b[0m\u001b[0;32m      3\u001b[0m     \u001b[0mfiles\u001b[0m\u001b[1;33m.\u001b[0m\u001b[0mappend\u001b[0m\u001b[1;33m(\u001b[0m\u001b[0mf\u001b[0m\u001b[1;33m)\u001b[0m\u001b[1;33m\u001b[0m\u001b[0m\n",
      "\u001b[1;31mAttributeError\u001b[0m: 'function' object has no attribute 'glob'"
     ]
    }
   ],
   "source": [
    "files = []\n",
    "for f in glob.glob(\"../bilateral_remittances_2010-2017_long_format.csv\"):\n",
    "    files.append(f)"
   ]
  },
  {
   "cell_type": "code",
   "execution_count": null,
   "metadata": {
    "collapsed": true
   },
   "outputs": [],
   "source": [
    "with open(\"../data/centroids_by_iso_alpha_3.json\") as f:\n",
    "    centroids_by_iso_alpha_3 = json.load(f)"
   ]
  },
  {
   "cell_type": "code",
   "execution_count": null,
   "metadata": {
    "collapsed": false
   },
   "outputs": [],
   "source": []
  },
  {
   "cell_type": "code",
   "execution_count": null,
   "metadata": {
    "collapsed": false
   },
   "outputs": [],
   "source": [
    "def format_row"
   ]
  },
  {
   "cell_type": "code",
   "execution_count": null,
   "metadata": {
    "collapsed": false
   },
   "outputs": [],
   "source": [
    "exporter_column = 'Exporter ISO3'\n",
    "importer_column = 'Importer ISO3'\n",
    "value_column = 'Value (1000USD)'\n",
    "csv_fname = files[0]\n",
    "with open(csv_fname) as f:\n",
    "    reader = csv.DictReader(f)\n",
    "    for row in reader:\n",
    "        if row[exporter_column] in centroids_by_iso_alpha_3 and \\\n",
    "        row[importer_column] in centroids_by_iso_alpha_3:\n",
    "                \n"
   ]
  },
  {
   "cell_type": "code",
   "execution_count": null,
   "metadata": {
    "collapsed": true
   },
   "outputs": [],
   "source": [
    "distances = []\n",
    "# {\"org_idx\": 102, \"delta\": 3, \"dst_idx\": 95, \"year\": 1984}\n",
    "def tsv_to_json(code, years):\n",
    "    for year in years:\n",
    "        filename = \"%s/%s.tsv\" % (code, year)\n",
    "        collection = []\n",
    "        \n",
    "        with open(filename) as f:\n",
    "            reader = csv.reader(f, delimiter=\"\\t\")\n",
    "            for row in reader:\n",
    "               # year\torigin\tdest\tsitc\texport_val\timport_val\n",
    "                if row[2] in country_to_coordinates and row[1] in country_to_coordinates: \n",
    "                    \n",
    "                    p1 = [0,0]\n",
    "                    p1_offset = [0,0]\n",
    "                    p0 = country_to_coordinates[row[1]]\n",
    "                    p2 = country_to_coordinates[row[2]]\n",
    "                    dist = math.sqrt(math.pow(p2[0] - p0[0],2) +  math.pow(p2[1] - p0[1],2))\n",
    "\n",
    "                    p1[0] = ((p2[0] + p0[0]) / 2)\n",
    "                    p1[1] = ((p2[1] + p0[1]) / 2)\n",
    "                    if abs(p2[1] - p0[1]) > abs(p2[0] - p0[0]):\n",
    "                        if p2[1] > p0[1]:\n",
    "                            p1_offset[0] = 1\n",
    "                            p1[0] += dist*0.5\n",
    "                        else:\n",
    "                            p1_offset[0] = -1\n",
    "                            p1[0] -= dist*0.5\n",
    "                    else:\n",
    "                        if p2[0] < p0[0]:\n",
    "                            p1_offset[1] = 1   \n",
    "                            p1[1] += dist*0.5\n",
    "                        else: \n",
    "                            p1_offset[1] = -1\n",
    "                            p1[1] -= dist*0.5\n",
    "                    \n",
    "                    if dist not in distances:\n",
    "                        distances.append(dist)\n",
    "                    #min_offset = math.sqrt(dist)\n",
    "                    #max_offset = 0.0 if row[4] == \"NULL\" else float(row[4])/10000                    \n",
    "                    #max_offset = 0.5 if max_offset < 2.0 else math.log(max_offset)\n",
    "                    #offset_range = [min_offset, max_offset]\n",
    "                    collection.append({\"year\": row[0], \n",
    "                                       \"org\": row[1],\n",
    "                                       \"org_wm\": country_to_coordinates[row[1]],\n",
    "                                       \"dst_wm\": country_to_coordinates[row[2]],\n",
    "                                       \"dst\": row[2],\n",
    "                                       \"mid_wm\": p1,\n",
    "                                       \"mid_offset\": p1_offset,\n",
    "                                       \"sitc\": row[3],\n",
    "                                       \"export_val\": 0.0 if row[4] == \"NULL\" else float(row[4]),\n",
    "                                       \"import_val\": 0.0 if row[5] == \"NULL\" else float(row[5])\n",
    "                                      })\n",
    "        filename = \"%s/%s.json\" % (code, year)\n",
    "        with open(filename, \"w\") as f:\n",
    "            json.dump(collection, f, indent=4)\n",
    "    collection = None"
   ]
  }
 ],
 "metadata": {
  "anaconda-cloud": {},
  "kernelspec": {
   "display_name": "Python [conda env:Anaconda3]",
   "language": "python",
   "name": "conda-env-Anaconda3-py"
  },
  "language_info": {
   "codemirror_mode": {
    "name": "ipython",
    "version": 3
   },
   "file_extension": ".py",
   "mimetype": "text/x-python",
   "name": "python",
   "nbconvert_exporter": "python",
   "pygments_lexer": "ipython3",
   "version": "3.5.2"
  }
 },
 "nbformat": 4,
 "nbformat_minor": 2
}
