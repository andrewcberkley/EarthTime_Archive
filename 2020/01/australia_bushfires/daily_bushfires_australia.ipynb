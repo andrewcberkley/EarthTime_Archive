{
 "cells": [
  {
   "cell_type": "code",
   "execution_count": 9,
   "metadata": {
    "collapsed": true
   },
   "outputs": [],
   "source": [
    "import array, csv, math, os, time\n",
    "from datetime import timedelta, date, datetime\n",
    "\n",
    "\n",
    "def FormatDateStr(date_str, format_str):\n",
    "    return time.mktime(time.strptime(date_str, format_str))\n",
    "\n",
    "def LngLatToWebMercator(lnglat):\n",
    "    (lng, lat) = lnglat\n",
    "    x = (lng + 180.0) * 256.0 / 360.0\n",
    "    y = 128.0 - math.log(math.tan((lat + 90.0) * math.pi / 360.0)) * 128.0 / math.pi\n",
    "    return [x, y]\n",
    "\n",
    "\n",
    "def PackColor(color):\n",
    "    return color[0] + color[1] * 256.0 + color[2] * 256.0 * 256.0;\n",
    "\n",
    "def print_sheet_row(share_link_identifier, category, name, start_date, end_date):\n",
    "    row_str = \"TRUE\\t%s\\t\" % share_link_identifier\n",
    "    row_str += \"%s\\t%s\\t\" % (category, name)\n",
    "    row_str += \"NASA\\tbdrk\\t\\t\"\n",
    "    row_str += \"%s\\t%s\\t1\\t\" % (start_date, end_date)\n",
    "    row_str += \"%s\\t\\t\\t\" % url\n",
    "    row_str += \"point\\t\\t\\t\\t\\t\\t\\t\\t\\t\\t\\t\\t\\t\\t\\t\\tWebGLVectorTile2.prototype._loadData\\tWebGLVectorTile2.prototype._setBufferData\t\t5\tWebGLVectorTile2.PointColorStartEpochEndEpochVertexShader\tWebGLVectorTile2.PointColorStartEpochEndEpochFragmentShader\\tWebGLVectorTile2.prototype._drawPointColorStartEpochEndEpoch\"\n",
    "    return row_str"
   ]
  },
  {
   "cell_type": "code",
   "execution_count": 20,
   "metadata": {
    "collapsed": false
   },
   "outputs": [],
   "source": [
    "# Open data from 2000-2019\n",
    "raw_data = []\n",
    "#with open(\"fires_20_years_v2_map_scaled_10000x_cmu_formatting.csv\") as f:\n",
    "#with open(\"fires_2000_2009_v2_map_scaled_10000x_cmu_formatting.csv\") as f:\n",
    "with open(\"fires_2010_2019_v2_map_scaled_10000x_cmu_formatting.csv\") as f:\n",
    "    reader = csv.DictReader(f)\n",
    "    for row in reader:\n",
    "        raw_data.append(row)"
   ]
  },
  {
   "cell_type": "code",
   "execution_count": 21,
   "metadata": {
    "collapsed": false
   },
   "outputs": [
    {
     "data": {
      "text/plain": [
       "1360793"
      ]
     },
     "execution_count": 21,
     "metadata": {},
     "output_type": "execute_result"
    }
   ],
   "source": [
    "len(raw_data)"
   ]
  },
  {
   "cell_type": "code",
   "execution_count": 22,
   "metadata": {
    "collapsed": false
   },
   "outputs": [
    {
     "data": {
      "text/plain": [
       "{'acq_date': '2010-01-01',\n",
       " 'frp': '0.01081',\n",
       " 'latitude': '-20.1413',\n",
       " 'longitude': '139.8895'}"
      ]
     },
     "execution_count": 22,
     "metadata": {},
     "output_type": "execute_result"
    }
   ],
   "source": [
    "raw_data[0]"
   ]
  },
  {
   "cell_type": "code",
   "execution_count": 23,
   "metadata": {
    "collapsed": false
   },
   "outputs": [],
   "source": [
    "#format x,y,packed_color,epoch_0,epoch_1\n",
    "points = []\n",
    "for row in raw_data:\n",
    "    #if row['frp'] == 'h':\n",
    "        x,y = LngLatToWebMercator([float(row['longitude']), float(row['latitude'])])\n",
    "        #packedColor = PackColor([185.0, 15.0, 7.0]) #Original Blue Color\n",
    "        packedColor = PackColor([0.85,0.15,0.05]) #ABERK Red Color\n",
    "        epoch_0 = FormatDateStr(row['acq_date'], '%Y-%m-%d')\n",
    "        epoch_1 = epoch_0 + 60*60*24*28\n",
    "        points += [x,y,packedColor,epoch_0,epoch_1]"
   ]
  },
  {
   "cell_type": "code",
   "execution_count": 24,
   "metadata": {
    "collapsed": false
   },
   "outputs": [],
   "source": [
    "#oname = \"modis_2000_2019_australia_fire_map_scaled_units.bin\"\n",
    "#oname = \"modis_2000_2009_australia_fire_map_scaled_units.bin\"\n",
    "oname = \"modis_2010_2019_australia_fire_map_scaled_units.bin\"\n",
    "#array.array('f', points).tofile(open(oname, 'w'))\n",
    "array.array('f', points).tofile(open(oname, 'wb'))"
   ]
  },
  {
   "cell_type": "code",
   "execution_count": 7,
   "metadata": {
    "collapsed": false
   },
   "outputs": [],
   "source": [
    "# We use these variables for making the new layer accessible via davos2019.earthtime.org\n",
    "share_link_identifier = \"gabrielo_example_viirs_2016\"\n",
    "category = \"Energy\"\n",
    "name = \"Australia Fires 2000 - 2019\"\n",
    "start_date = \"20001101\"\n",
    "end_date = \"20191231\"\n",
    "url = \"https://tiles.earthtime.org/aberkley/data/australian_bushfires/modis_2000_2019_australia_fire_map_scaled_units_10000x_smaller.bin\"\n",
    "#url = \"https://tiles.earthtime.org/aberkley/data/australian_bushfires/modis_2000_2009_australia_fire_map_scaled_units.bin\"\n",
    "#url = \"https://tiles.earthtime.org/aberkley/data/australian_bushfires/modis_2010_2019_australia_fire_map_scaled_units.bin\""
   ]
  },
  {
   "cell_type": "code",
   "execution_count": 8,
   "metadata": {
    "collapsed": false
   },
   "outputs": [
    {
     "name": "stdout",
     "output_type": "stream",
     "text": [
      "TRUE\tgabrielo_example_viirs_2016\tEnergy\tAustralia Fires 2000 - 2019\tNASA\tbdrk\t\t20001101\t20191231\t1\thttps://tiles.earthtime.org/aberkley/data/australian_bushfires/modis_2000_2019_australia_fire_map_scaled_units_10000x_smaller.bin\t\t\tpoint\t\t\t\t\t\t\t\t\t\t\t\t\t\t\t\tWebGLVectorTile2.prototype._loadData\tWebGLVectorTile2.prototype._setBufferData\t\t5\tWebGLVectorTile2.PointColorStartEpochEndEpochVertexShader\tWebGLVectorTile2.PointColorStartEpochEndEpochFragmentShader\tWebGLVectorTile2.prototype._drawPointColorStartEpochEndEpoch\n"
     ]
    }
   ],
   "source": [
    "# Copy and paste the below into the sheet titled CSV Layers\n",
    "print (print_sheet_row(share_link_identifier, category, name, start_date, end_date))"
   ]
  },
  {
   "cell_type": "code",
   "execution_count": null,
   "metadata": {
    "collapsed": true
   },
   "outputs": [],
   "source": []
  }
 ],
 "metadata": {
  "anaconda-cloud": {},
  "kernelspec": {
   "display_name": "Python [conda env:Anaconda3]",
   "language": "python",
   "name": "conda-env-Anaconda3-py"
  },
  "language_info": {
   "codemirror_mode": {
    "name": "ipython",
    "version": 3
   },
   "file_extension": ".py",
   "mimetype": "text/x-python",
   "name": "python",
   "nbconvert_exporter": "python",
   "pygments_lexer": "ipython3",
   "version": "3.5.2"
  }
 },
 "nbformat": 4,
 "nbformat_minor": 1
}
